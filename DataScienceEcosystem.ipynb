{
 "cells": [
  {
   "cell_type": "markdown",
   "id": "6b5a6cfe-87db-4622-b69e-96dcc2438cb5",
   "metadata": {},
   "source": [
    "# Data Science Tools and Ecosystem"
   ]
  },
  {
   "cell_type": "markdown",
   "id": "406cc3f0-d71b-49de-a1b4-89164f5ba09b",
   "metadata": {},
   "source": [
    "##### In this notebook, Data Science Tools and Ecosystem are summarized"
   ]
  },
  {
   "cell_type": "markdown",
   "id": "84de6319-b736-4c07-9165-b6e44b962926",
   "metadata": {},
   "source": [
    "##### Some of the popular laanguages that Data Scientist use are:"
   ]
  },
  {
   "cell_type": "markdown",
   "id": "18b348bd-435d-428d-9dd2-bcb133e476eb",
   "metadata": {},
   "source": [
    "1. Python\n",
    "2. R\n",
    "3. Julia\n",
    "4. Java"
   ]
  },
  {
   "cell_type": "markdown",
   "id": "ec472c61-efd7-4b55-98f5-f09030796894",
   "metadata": {},
   "source": [
    "__Objectives:__\n",
    "- List popular languages for Data Science.\n",
    "- List some commonly used libraries.\n",
    "- List some Data Science Tools.\n",
    "- Operate Arithmetics."
   ]
  },
  {
   "cell_type": "markdown",
   "id": "b54df4f7-5929-427b-9ebe-2aecad8d83c0",
   "metadata": {},
   "source": [
    "##### Some of the commonly used libraries used by Data Scientists Include:"
   ]
  },
  {
   "cell_type": "markdown",
   "id": "42d1ba47-c918-492c-83c9-e9776d361699",
   "metadata": {},
   "source": [
    "1. Numpy\n",
    "2. Pandas\n",
    "3. Matplotlib\n",
    "4. Seaborn\n",
    "5. SciPy"
   ]
  },
  {
   "cell_type": "markdown",
   "id": "0372b44c-4a3b-4875-81c6-316be61e5150",
   "metadata": {},
   "source": [
    "|Data Sienc Tools|\n",
    "|----------------|\n",
    "| Apache Spark|\n",
    "|Jupyter Notebook|\n",
    "|Apach Hadoop|"
   ]
  },
  {
   "cell_type": "markdown",
   "id": "d1b0fa5a-3b20-4826-81d7-560295efc953",
   "metadata": {},
   "source": [
    "### Below are a few examples of evaluating arithmetic expressions in Python."
   ]
  },
  {
   "cell_type": "code",
   "execution_count": 14,
   "id": "a1784277-f1da-42b5-ab15-ffc1f7d12cc4",
   "metadata": {},
   "outputs": [
    {
     "data": {
      "text/plain": [
       "17"
      ]
     },
     "execution_count": 14,
     "metadata": {},
     "output_type": "execute_result"
    }
   ],
   "source": [
    "#This is a simple arithmetic expression to multiply then add integers\n",
    "(3*4)+5"
   ]
  },
  {
   "cell_type": "code",
   "execution_count": 16,
   "id": "21638ee8-1940-4246-a6bb-1f8cee403457",
   "metadata": {},
   "outputs": [
    {
     "data": {
      "text/plain": [
       "3.3333333333333335"
      ]
     },
     "execution_count": 16,
     "metadata": {},
     "output_type": "execute_result"
    }
   ],
   "source": [
    "#This will convert 200 minutes to hours by dividing by 60\n",
    "200/60"
   ]
  },
  {
   "cell_type": "markdown",
   "id": "5d2481f4-c223-4f12-ac97-1a4a9ad33ab0",
   "metadata": {},
   "source": [
    "## Autor\n",
    "Ines Tchougong\n"
   ]
  },
  {
   "cell_type": "code",
   "execution_count": null,
   "id": "9a710c8c-0153-427f-923a-ff092c411e77",
   "metadata": {},
   "outputs": [],
   "source": []
  }
 ],
 "metadata": {
  "kernelspec": {
   "display_name": "Python 3 (ipykernel)",
   "language": "python",
   "name": "python3"
  },
  "language_info": {
   "codemirror_mode": {
    "name": "ipython",
    "version": 3
   },
   "file_extension": ".py",
   "mimetype": "text/x-python",
   "name": "python",
   "nbconvert_exporter": "python",
   "pygments_lexer": "ipython3",
   "version": "3.12.4"
  }
 },
 "nbformat": 4,
 "nbformat_minor": 5
}
